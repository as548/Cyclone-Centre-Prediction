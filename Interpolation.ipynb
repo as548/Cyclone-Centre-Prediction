{
 "cells": [
  {
   "cell_type": "code",
   "execution_count": 3,
   "id": "af93263f",
   "metadata": {},
   "outputs": [],
   "source": [
    "import numpy as np\n",
    "import matplotlib.pyplot as plt\n"
   ]
  },
  {
   "cell_type": "code",
   "execution_count": 19,
   "id": "76d89dbd",
   "metadata": {},
   "outputs": [],
   "source": [
    "x=[0,300,600,1200]\n",
    "y=[30,30,25,25]"
   ]
  },
  {
   "cell_type": "code",
   "execution_count": 20,
   "id": "2980ccb3",
   "metadata": {},
   "outputs": [],
   "source": [
    "x_new=[300,350,400,450,500,550,600,650,700,750,800,850,900,950,1000,1050,1100,1150,1200,1250,1300,1350,1400,1450,1500,1550,1600,1650,1700,1750,1800]\n",
    "y_new=np.interp(x_new,x,y)"
   ]
  },
  {
   "cell_type": "code",
   "execution_count": 21,
   "id": "d546cb73",
   "metadata": {},
   "outputs": [
    {
     "data": {
      "text/plain": [
       "array([30.        , 29.16666667, 28.33333333, 27.5       , 26.66666667,\n",
       "       25.83333333, 25.        , 25.        , 25.        , 25.        ,\n",
       "       25.        , 25.        , 25.        , 25.        , 25.        ,\n",
       "       25.        , 25.        , 25.        , 25.        , 25.        ,\n",
       "       25.        , 25.        , 25.        , 25.        , 25.        ,\n",
       "       25.        , 25.        , 25.        , 25.        , 25.        ,\n",
       "       25.        ])"
      ]
     },
     "execution_count": 21,
     "metadata": {},
     "output_type": "execute_result"
    }
   ],
   "source": [
    "y_new"
   ]
  },
  {
   "cell_type": "code",
   "execution_count": null,
   "id": "1498f8d8",
   "metadata": {},
   "outputs": [],
   "source": []
  },
  {
   "cell_type": "code",
   "execution_count": null,
   "id": "a23f49f4",
   "metadata": {},
   "outputs": [],
   "source": []
  }
 ],
 "metadata": {
  "kernelspec": {
   "display_name": "Python 3 (ipykernel)",
   "language": "python",
   "name": "python3"
  },
  "language_info": {
   "codemirror_mode": {
    "name": "ipython",
    "version": 3
   },
   "file_extension": ".py",
   "mimetype": "text/x-python",
   "name": "python",
   "nbconvert_exporter": "python",
   "pygments_lexer": "ipython3",
   "version": "3.11.3"
  }
 },
 "nbformat": 4,
 "nbformat_minor": 5
}

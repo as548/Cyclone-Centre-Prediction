{
 "cells": [
  {
   "cell_type": "code",
   "execution_count": 1,
   "id": "bcfa1ead",
   "metadata": {},
   "outputs": [],
   "source": [
    "def crop(img):\n",
    "    roi=img[865:1602,1390:2364]\n",
    "    return roi"
   ]
  },
  {
   "cell_type": "code",
   "execution_count": 103,
   "id": "b10d1d39",
   "metadata": {},
   "outputs": [],
   "source": [
    "import matplotlib.pyplot as plt\n",
    "import matplotlib.image as mpimg"
   ]
  },
  {
   "cell_type": "code",
   "execution_count": null,
   "id": "cd9b1b30",
   "metadata": {},
   "outputs": [],
   "source": []
  },
  {
   "cell_type": "code",
   "execution_count": 2,
   "id": "26ff2d00",
   "metadata": {},
   "outputs": [],
   "source": [
    "def pad_image(image, pad_size):\n",
    "    return cv2.copyMakeBorder(image, pad_size, pad_size, pad_size, pad_size, cv2.BORDER_CONSTANT, value=(0, 0, 0))\n"
   ]
  },
  {
   "cell_type": "code",
   "execution_count": 3,
   "id": "68c4ea7a",
   "metadata": {},
   "outputs": [],
   "source": [
    "def rotate_image(image, angle):\n",
    "    height, width = image.shape[:2]\n",
    "    rotation_matrix = cv2.getRotationMatrix2D((width / 2, height / 2), angle, 1)\n",
    "    rotated_image = cv2.warpAffine(image, rotation_matrix, (width, height))\n",
    "    return rotated_image"
   ]
  },
  {
   "cell_type": "code",
   "execution_count": 4,
   "id": "d632dd30",
   "metadata": {},
   "outputs": [],
   "source": [
    "def random_rotate_image(image, max_angle=45):\n",
    "    angle = np.random.randint(-max_angle, max_angle)\n",
    "    return rotate_image(image, angle)\n"
   ]
  },
  {
   "cell_type": "code",
   "execution_count": 5,
   "id": "188c6f91",
   "metadata": {},
   "outputs": [],
   "source": [
    "def scale_image(image, scale_factor):\n",
    "    height, width = image.shape[:2]\n",
    "    new_height, new_width = int(height * scale_factor), int(width * scale_factor)\n",
    "    scaled_image = cv2.resize(image, (new_width, new_height))\n",
    "    return scaled_image"
   ]
  },
  {
   "cell_type": "code",
   "execution_count": 6,
   "id": "75a87046",
   "metadata": {},
   "outputs": [],
   "source": [
    "def random_scale_image(image, min_scale=0.8, max_scale=1.2):\n",
    "    scale_factor = np.random.uniform(min_scale, max_scale)\n",
    "    return scale_image(image, scale_factor)\n"
   ]
  },
  {
   "cell_type": "code",
   "execution_count": 7,
   "id": "01fdf2f8",
   "metadata": {},
   "outputs": [],
   "source": [
    "def random_translate_image(image, max_translate=50):\n",
    "    height, width = image.shape[:2]\n",
    "    tx = np.random.randint(-max_translate, max_translate)\n",
    "    ty = np.random.randint(-max_translate, max_translate)\n",
    "    translation_matrix = np.float32([[1, 0, tx], [0, 1, ty]])\n",
    "    return cv2.warpAffine(image, translation_matrix, (width, height))\n"
   ]
  },
  {
   "cell_type": "code",
   "execution_count": 8,
   "id": "0c932efd",
   "metadata": {},
   "outputs": [],
   "source": [
    "def random_crop_image(image, crop_ratio=0.6):\n",
    "    height, width = image.shape[:2]\n",
    "    new_height, new_width = int(height * crop_ratio), int(width * crop_ratio)\n",
    "    y = np.random.randint(0, height - new_height)\n",
    "    x = np.random.randint(0, width - new_width)\n",
    "    return image[y:y + new_height, x:x + new_width]\n",
    "def randomcrop(img, gt_boxes, scale=0.5):\n",
    "    '''\n",
    "    ### Random Crop ###\n",
    "    img: image\n",
    "    gt_boxes: format [[obj x1 y1 x2 y2],...]\n",
    "    scale: percentage of cropped area\n",
    "    '''\n",
    "    \n",
    "    # Crop image\n",
    "    height, width = int(img.shape[0]*scale), int(img.shape[1]*scale)\n",
    "    x = random.randint(0, img.shape[1] - int(width))\n",
    "    y = random.randint(0, img.shape[0] - int(height))\n",
    "    cropped = img[y:y+height, x:x+width]\n",
    "    resized = cv2.resize(cropped, (img.shape[1], img.shape[0]))\n",
    "    \n",
    "    # Modify annotation\n",
    "    new_boxes=[]\n",
    "    for box in gt_boxes:\n",
    "        obj_name = box[0]\n",
    "        x1 = int(box[1])\n",
    "        y1 = int(box[2])\n",
    "        x2 = int(box[3])\n",
    "        y2 = int(box[4])\n",
    "        x1, x2 = x1-x, x2-x\n",
    "        y1, y2 = y1-y, y2-y\n",
    "        x1, y1, x2, y2 = x1/scale, y1/scale, x2/scale, y2/scale\n",
    "        if (x1<img.shape[1] and y1<img.shape[0]) and (x2>0 and y2>0):\n",
    "            if x1<0: x1=0\n",
    "            if y1<0: y1=0\n",
    "            if x2>img.shape[1]: x2=img.shape[1]\n",
    "            if y2>img.shape[0]: y2=img.shape[0]\n",
    "            new_boxes.append([obj_name, x1, y1, x2, y2])\n",
    "    return resized, new_boxes\n"
   ]
  },
  {
   "cell_type": "code",
   "execution_count": 9,
   "id": "9cc981a3",
   "metadata": {},
   "outputs": [],
   "source": [
    "def random_zoom_image(image, min_zoom=0.8, max_zoom=2.0):\n",
    "    zoom_factor = np.random.uniform(min_zoom, max_zoom)\n",
    "    return scale_image(image, zoom_factor)\n"
   ]
  },
  {
   "cell_type": "code",
   "execution_count": 10,
   "id": "e196e4e9",
   "metadata": {},
   "outputs": [],
   "source": [
    "def random_darken_brighten(image, brightness_range=(10, 30)):\n",
    "    brightness = np.random.randint(brightness_range[0], brightness_range[1])\n",
    "    return np.clip(image + brightness, 0, 255).astype(np.uint8)\n"
   ]
  },
  {
   "cell_type": "code",
   "execution_count": 11,
   "id": "c529ca99",
   "metadata": {},
   "outputs": [],
   "source": [
    "def convert_to_grayscale(image):\n",
    "    return cv2.cvtColor(image, cv2.COLOR_BGR2GRAY)\n"
   ]
  },
  {
   "cell_type": "code",
   "execution_count": 112,
   "id": "2d66a8a3",
   "metadata": {},
   "outputs": [],
   "source": [
    "import os\n",
    "import cv2\n",
    "import numpy as np\n",
    "def augment_and_save(image, output_directory,a, num_images=3):\n",
    "    if not os.path.exists(output_directory):\n",
    "        os.makedirs(output_directory)\n",
    "\n",
    "    for i in range(num_images):\n",
    "        rotated_image= random_rotate_image(image)\n",
    "        grayscale_img= convert_to_grayscale(rotated_image)\n",
    "        output_path = os.path.join(output_directory, f'3DIMG_15NOV2018_'+a+'_L1C_SGP_V01R00'+str(i)+'.jpg')\n",
    "        cv2.imwrite(output_path, grayscale_img)\n",
    "\n",
    "# Assuming 'original_img.jpg' is the input image\n",
    "obj=['0300','0330','0400','0430','0500','0530','0600','0630','0700','0730','0800','0830','0900','0930']\n",
    "for i in obj:\n",
    "\n",
    "    input_image = cv2.imread('cropped/VIS/3DIMG_15NOV2018_'+i+'_L1C_SGP_V01R00.jpg')\n",
    "    output_directory = 'aug_cropped/SCS/VIS'\n",
    "    augment_and_save(input_image, output_directory,i)\n",
    "\n",
    "# input_image = cv2.imread('cropped/MIR/3DIMG_15NOV2018_1800_L1C_SGP_V01R00.jpg')\n",
    "# output_directory = 'aug_cropped/MIR'\n",
    "# augment_and_save(input_image, output_directory)\n",
    "\n",
    "# input_image = cv2.imread('cropped/WV/3DIMG_15NOV2018_1800_L1C_SGP_V01R00.jpg')\n",
    "# output_directory = 'aug_cropped/WV'\n",
    "# augment_and_save(input_image, output_directory)\n"
   ]
  },
  {
   "cell_type": "markdown",
   "id": "803e0bea",
   "metadata": {},
   "source": []
  },
  {
   "cell_type": "code",
   "execution_count": null,
   "id": "a366e40a",
   "metadata": {},
   "outputs": [],
   "source": []
  }
 ],
 "metadata": {
  "kernelspec": {
   "display_name": "Python 3 (ipykernel)",
   "language": "python",
   "name": "python3"
  },
  "language_info": {
   "codemirror_mode": {
    "name": "ipython",
    "version": 3
   },
   "file_extension": ".py",
   "mimetype": "text/x-python",
   "name": "python",
   "nbconvert_exporter": "python",
   "pygments_lexer": "ipython3",
   "version": "3.11.5"
  }
 },
 "nbformat": 4,
 "nbformat_minor": 5
}
